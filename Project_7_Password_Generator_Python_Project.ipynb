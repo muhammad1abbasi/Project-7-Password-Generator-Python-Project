{
  "nbformat": 4,
  "nbformat_minor": 0,
  "metadata": {
    "colab": {
      "provenance": [],
      "authorship_tag": "ABX9TyOlH0NMUtvxi0y5W8lMKsm8",
      "include_colab_link": true
    },
    "kernelspec": {
      "name": "python3",
      "display_name": "Python 3"
    },
    "language_info": {
      "name": "python"
    }
  },
  "cells": [
    {
      "cell_type": "markdown",
      "metadata": {
        "id": "view-in-github",
        "colab_type": "text"
      },
      "source": [
        "<a href=\"https://colab.research.google.com/github/muhammad1abbasi/Project-7-Password-Generator-Python-Project/blob/main/Project_7_Password_Generator_Python_Project.ipynb\" target=\"_parent\"><img src=\"https://colab.research.google.com/assets/colab-badge.svg\" alt=\"Open In Colab\"/></a>"
      ]
    },
    {
      "cell_type": "markdown",
      "source": [],
      "metadata": {
        "id": "gPee3nA_09iI"
      }
    },
    {
      "cell_type": "markdown",
      "source": [
        "Project 7: Password Generator Python Project"
      ],
      "metadata": {
        "id": "NE3u_GOeyFVh"
      }
    },
    {
      "cell_type": "code",
      "execution_count": 11,
      "metadata": {
        "colab": {
          "base_uri": "https://localhost:8080/"
        },
        "id": "VRGEk6GhyB4a",
        "outputId": "0428dd0f-fefc-42f4-a658-f14e6eff5379"
      },
      "outputs": [
        {
          "output_type": "stream",
          "name": "stdout",
          "text": [
            "Enter password length (1-20): 16\n",
            "Generated Password: o!(P8iZ~7o\"i$Jv}\n"
          ]
        }
      ],
      "source": [
        "import random\n",
        "import string\n",
        "\n",
        "def generate_password(length):\n",
        "    characters = string.ascii_letters + string.digits + string.punctuation\n",
        "    return ''.join(random.choice(characters) for _ in range(length))\n",
        "\n",
        "# Take input from the user\n",
        "length = input(\"Enter password length (1-20): \").strip()\n",
        "\n",
        "# Ensure input is valid\n",
        "if length.isdigit():\n",
        "    length = int(length)\n",
        "    if 1 <= length <= 20:\n",
        "        password = generate_password(length)\n",
        "        print(f\"Generated Password: {password}\")\n",
        "    else:\n",
        "        print(\"Please enter a number between 1 and 20.\")\n",
        "else:\n",
        "    print(\"Invalid input! Please enter a valid number.\")\n"
      ]
    }
  ]
}